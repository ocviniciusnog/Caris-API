{
 "cells": [
  {
   "cell_type": "code",
   "execution_count": null,
   "id": "c1847486-be20-4e01-84ae-495e841a685e",
   "metadata": {},
   "outputs": [],
   "source": [
    "import caris.carisbatch as cb\n",
    "from pathlib import Path"
   ]
  },
  {
   "cell_type": "code",
   "execution_count": null,
   "id": "90970343-c20a-44f4-b22f-3887ced83aa4",
   "metadata": {},
   "outputs": [],
   "source": [
    "files_to_load = list(Path(\"C:\\Projects\\MBES\\RAW\").glob(\"*.kmall\"))\n",
    "\n",
    "for file in files_to_load:\n",
    "    print(file)"
   ]
  },
  {
   "cell_type": "code",
   "execution_count": null,
   "id": "b8ac6b35-40aa-4be1-abc8-bf01ef7eb447",
   "metadata": {},
   "outputs": [],
   "source": [
    "importer = cb.ImportToHIPS()\n",
    "\n",
    "importer.input = \"C:\\Projects\\MBES\\Hips\\survey.hips\"\n",
    "importer.vessels = 'Vessel1'\n",
    "importer.files_to_load = files_to_load"
   ]
  },
  {
   "cell_type": "code",
   "execution_count": null,
   "id": "c46eba78-0960-4c09-96b4-bc6749c4363e",
   "metadata": {},
   "outputs": [],
   "source": [
    "importer.config(input_format=\"KONGSBERGKMALL\", convert_navigation=True, gps_timestamps='GPS')"
   ]
  },
  {
   "cell_type": "code",
   "execution_count": null,
   "id": "fbf9094c-5389-4b49-897b-f3cb60d6b8c8",
   "metadata": {},
   "outputs": [],
   "source": [
    "print(importer.get_cmd())"
   ]
  },
  {
   "cell_type": "code",
   "execution_count": null,
   "id": "60d95d3f-5f9f-4167-9e52-9dc28c466c14",
   "metadata": {},
   "outputs": [],
   "source": [
    "result = importer.run()\n",
    "\n",
    "print(result)"
   ]
  },
  {
   "cell_type": "code",
   "execution_count": null,
   "id": "49610119-3c94-49fd-9a25-0ed653e06e13",
   "metadata": {},
   "outputs": [],
   "source": [
    "config = {\n",
    "    \"input_format\":\"KONGSBERGKMALL\",\n",
    "    \"convert_navigation\":True,\n",
    "    \"gps_timestamps\":\"GPS\",\n",
    "    \"input_crs\": \"WG84\"\n",
    "}\n",
    "\n",
    "importer.config(**config)"
   ]
  },
  {
   "cell_type": "code",
   "execution_count": null,
   "id": "1a627d6a-f80f-472f-a1bc-6845b4914f06",
   "metadata": {},
   "outputs": [],
   "source": [
    "print(importer.get_cmd())"
   ]
  },
  {
   "cell_type": "code",
   "execution_count": null,
   "id": "20beb08b-3c60-4d9c-88d7-55c8c3ae631e",
   "metadata": {},
   "outputs": [],
   "source": [
    "result = importer.run()\n",
    "\n",
    "print(result)"
   ]
  }
 ],
 "metadata": {
  "kernelspec": {
   "display_name": "Python 3 (ipykernel)",
   "language": "python",
   "name": "python3"
  },
  "language_info": {
   "codemirror_mode": {
    "name": "ipython",
    "version": 3
   },
   "file_extension": ".py",
   "mimetype": "text/x-python",
   "name": "python",
   "nbconvert_exporter": "python",
   "pygments_lexer": "ipython3",
   "version": "3.11.6"
  }
 },
 "nbformat": 4,
 "nbformat_minor": 5
}
