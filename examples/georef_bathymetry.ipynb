{
 "cells": [
  {
   "cell_type": "code",
   "execution_count": 16,
   "id": "4ecef8c8-c204-4c45-94f7-8b1a3ffc07b6",
   "metadata": {},
   "outputs": [],
   "source": [
    "import caris.carisbatch as cb"
   ]
  },
  {
   "cell_type": "code",
   "execution_count": 17,
   "id": "2bd3bec1-a3d7-459e-9290-84dc5808fcb8",
   "metadata": {},
   "outputs": [],
   "source": [
    "georef = cb.GeoreferenceHIPSBathymetry()"
   ]
  },
  {
   "cell_type": "code",
   "execution_count": 18,
   "id": "07a320d3-0cb7-4daa-bd2a-b7c6cee6a1c9",
   "metadata": {},
   "outputs": [],
   "source": [
    "georef.input = \"C:\\Projects\\MBES\\Hips\\survey.hips\"\n",
    "georef.vessels = \"Vessel1\""
   ]
  },
  {
   "cell_type": "code",
   "execution_count": 19,
   "id": "3e1fe2b8-a5e7-48a1-a5ea-25f652d3cbfe",
   "metadata": {},
   "outputs": [],
   "source": [
    "config = {\n",
    "    \"compute_svc\": True,\n",
    "    \"svp\": \"C:\\Projects\\SVP\\SVP001.svp\",\n",
    "    \"profile_selection_method\": \"NEAREST_IN_TIME\",\n",
    "    \"source_heave\": \"REALTIME\",\n",
    "}"
   ]
  },
  {
   "cell_type": "code",
   "execution_count": 20,
   "id": "5c071b9a-cbd6-4070-a77a-441a808b4db1",
   "metadata": {},
   "outputs": [],
   "source": [
    "georef.config(**config)"
   ]
  },
  {
   "cell_type": "code",
   "execution_count": 21,
   "id": "f0adec00-a6af-4356-86b5-b11496752bea",
   "metadata": {},
   "outputs": [
    {
     "name": "stdout",
     "output_type": "stream",
     "text": [
      "carisbatch --run GeoreferenceHIPSBathymetry --compute-svc --svp \"C:\\Projects\\SVP\\SVP001.svp\" --profile-selection-method \"NEAREST_IN_TIME\" --source-heave \"REALTIME\" \"file:///C:/Projects/MBES/Hips/survey.hips?Vessel=Vessel1\"\n"
     ]
    }
   ],
   "source": [
    "print(georef.get_cmd())"
   ]
  },
  {
   "cell_type": "code",
   "execution_count": 22,
   "id": "05470b2d-c731-4d8c-ab18-6ee04684b034",
   "metadata": {},
   "outputs": [
    {
     "data": {
      "text/plain": [
       "'carisbatch --run GeoreferenceHIPSBathymetry --compute-svc --svp \"C:\\\\Projects\\\\SVP\\\\SVP001.svp\" --profile-selection-method \"NEAREST_IN_TIME\" --source-heave \"REALTIME\" \"file:///C:/Projects/MBES/Hips/survey.hips?Vessel=Vessel1;Day=2023-328\"'"
      ]
     },
     "execution_count": 22,
     "metadata": {},
     "output_type": "execute_result"
    }
   ],
   "source": [
    "georef.days='2023-328'\n",
    "georef.get_cmd()"
   ]
  },
  {
   "cell_type": "code",
   "execution_count": 23,
   "id": "aa540a42-e036-4b6e-8bc9-a560c067a844",
   "metadata": {},
   "outputs": [
    {
     "name": "stdout",
     "output_type": "stream",
     "text": [
      "carisbatch --run GeoreferenceHIPSBathymetry --compute-svc --svp \"C:\\Projects\\SVP\\SVP001.svp\" --profile-selection-method \"NEAREST_IN_TIME\" --source-heave \"REALTIME\" \"file:///C:/Projects/MBES/Hips/survey.hips?Vessel=Vessel1;Day=2023-328;Line=Line001\"\n"
     ]
    }
   ],
   "source": [
    "georef.lines='Line001'\n",
    "print(georef.get_cmd())"
   ]
  },
  {
   "cell_type": "code",
   "execution_count": 24,
   "id": "7b481c73-1894-4f49-9cbc-4415a43cc871",
   "metadata": {},
   "outputs": [
    {
     "name": "stdout",
     "output_type": "stream",
     "text": [
      "carisbatch --run GeoreferenceHIPSBathymetry --compute-svc --svp \"C:\\Projects\\SVP\\SVP001.svp\" --profile-selection-method \"NEAREST_IN_TIME\" --source-heave \"REALTIME\" \"file:///C:/Projects/MBES/Hips/survey.hips?Vessel=Vessel1;Day=2023-328;Line=Line002;Line=Line003\"\n"
     ]
    }
   ],
   "source": [
    "georef.lines=['Line002', 'Line003']\n",
    "print(georef.get_cmd())"
   ]
  },
  {
   "cell_type": "code",
   "execution_count": 25,
   "id": "604f9695-e76c-4d3b-85c4-86327d12ce5c",
   "metadata": {},
   "outputs": [
    {
     "name": "stdout",
     "output_type": "stream",
     "text": [
      "carisbatch --run GeoreferenceHIPSBathymetry --compute-svc --svp \"C:\\Projects\\SVP\\SVP001.svp\" --profile-selection-method \"NEAREST_IN_TIME\" --source-heave \"REALTIME\" --vertical-datum-reference \"TIDE\" --tide-file \"C:\\Projects\\Tide\\TIDE.tid\" \"file:///C:/Projects/MBES/Hips/survey.hips?Vessel=Vessel1;Day=2023-328;Line=Line002;Line=Line003\"\n"
     ]
    }
   ],
   "source": [
    "georef.config(vertical_datum_reference = 'TIDE', tide_file = \"C:\\Projects\\Tide\\TIDE.tid\")\n",
    "print(georef.get_cmd())"
   ]
  },
  {
   "cell_type": "code",
   "execution_count": null,
   "id": "6dacca7c-9fd6-4aae-8e45-e242ace56513",
   "metadata": {},
   "outputs": [],
   "source": [
    "result = georef.run()\n",
    "print(result)"
   ]
  }
 ],
 "metadata": {
  "kernelspec": {
   "display_name": "Python 3 (ipykernel)",
   "language": "python",
   "name": "python3"
  },
  "language_info": {
   "codemirror_mode": {
    "name": "ipython",
    "version": 3
   },
   "file_extension": ".py",
   "mimetype": "text/x-python",
   "name": "python",
   "nbconvert_exporter": "python",
   "pygments_lexer": "ipython3",
   "version": "3.11.6"
  }
 },
 "nbformat": 4,
 "nbformat_minor": 5
}
