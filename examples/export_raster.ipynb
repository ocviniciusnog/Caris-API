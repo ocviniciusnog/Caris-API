{
 "cells": [
  {
   "cell_type": "code",
   "execution_count": 29,
   "id": "75744051-0954-4a9c-8509-4cded07453c9",
   "metadata": {},
   "outputs": [],
   "source": [
    "import caris.carisbatch as cb\n",
    "from pathlib import Path"
   ]
  },
  {
   "cell_type": "code",
   "execution_count": 30,
   "id": "8f877b11-4c16-48b9-8575-1396241c78b2",
   "metadata": {},
   "outputs": [],
   "source": [
    "exporter = cb.ExportRaster()\n",
    "\n",
    "exporter.input = \"C:\\Projects\\Surfaces\\Surface001.csar\"\n",
    "exporter.input_as_uri = False\n",
    "\n",
    "exporter.output = \"C:\\Projects\\Export\\Surface.tif\"\n",
    "exporter.output_as_uri = False"
   ]
  },
  {
   "cell_type": "code",
   "execution_count": 31,
   "id": "63566786-39d4-4ac6-93ca-6c38caa16458",
   "metadata": {},
   "outputs": [],
   "source": [
    "config = {\n",
    "    \"--output-format\": \"GEOTIFF\",\n",
    "    \"--include-band\": ['Depth', 'Shoal', 'Deep'],\n",
    "    \"--compression\": \"LZW\"\n",
    "}"
   ]
  },
  {
   "cell_type": "code",
   "execution_count": 32,
   "id": "2e14118f-079b-48b8-8441-b4b139356cad",
   "metadata": {},
   "outputs": [
    {
     "name": "stdout",
     "output_type": "stream",
     "text": [
      "carisbatch --run ExportRaster --output-format \"GEOTIFF\" --include-band \"Depth\" --include-band \"Shoal\" --include-band \"Deep\" --compression \"LZW\" \"C:\\Projects\\Surfaces\\Surface001.csar\" \"C:\\Projects\\Export\\Surface.tif\"\n"
     ]
    }
   ],
   "source": [
    "exporter.config(**config)\n",
    "print(exporter.get_cmd())"
   ]
  },
  {
   "cell_type": "code",
   "execution_count": 33,
   "id": "5e576e78-3beb-4869-be2b-9ae2474ca18d",
   "metadata": {},
   "outputs": [
    {
     "name": "stdout",
     "output_type": "stream",
     "text": [
      "carisbatch --run ExportRaster --output-format \"ESRI_ASCII\" --include-band \"Depth\" \"C:\\Projects\\Surfaces\\Surface001.csar\" \"C:\\Projects\\Export\\Surface.asc\"\n"
     ]
    }
   ],
   "source": [
    "exporter.output = \"C:\\Projects\\Export\\Surface.asc\"\n",
    "\n",
    "exporter.config(output_format=\"ESRI_ASCII\", include_band=\"Depth\")\n",
    "print(exporter.get_cmd())"
   ]
  },
  {
   "cell_type": "code",
   "execution_count": null,
   "id": "c4e803bc-464a-4562-b344-9c47724320cf",
   "metadata": {},
   "outputs": [],
   "source": [
    "result = exporter.run()\n",
    "print(result)"
   ]
  }
 ],
 "metadata": {
  "kernelspec": {
   "display_name": "Python 3 (ipykernel)",
   "language": "python",
   "name": "python3"
  },
  "language_info": {
   "codemirror_mode": {
    "name": "ipython",
    "version": 3
   },
   "file_extension": ".py",
   "mimetype": "text/x-python",
   "name": "python",
   "nbconvert_exporter": "python",
   "pygments_lexer": "ipython3",
   "version": "3.11.6"
  }
 },
 "nbformat": 4,
 "nbformat_minor": 5
}
